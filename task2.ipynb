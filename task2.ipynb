{
  "cells": [
    {
      "cell_type": "markdown",
      "id": "7f80f08c",
      "metadata": {
        "id": "7f80f08c"
      },
      "source": [
        "# Python script to scrape an article from Medium and store the extracted text in a file"
      ]
    },
    {
      "cell_type": "code",
      "execution_count": null,
      "id": "f03d8c2f",
      "metadata": {
        "id": "f03d8c2f"
      },
      "outputs": [],
      "source": [
        "\n",
        "import os\n",
        "import sys\n",
        "import requests\n",
        "import re\n",
        "from bs4 import BeautifulSoup\n"
      ]
    },
    {
      "cell_type": "markdown",
      "id": "797ee388",
      "metadata": {
        "id": "797ee388"
      },
      "source": [
        "### Function to get the HTML source text of the Medium article"
      ]
    },
    {
      "cell_type": "code",
      "execution_count": null,
      "id": "5c863642",
      "metadata": {
        "id": "5c863642"
      },
      "outputs": [],
      "source": [
        "\n",
        "def get_page():\n",
        "    global url\n",
        "\n",
        "    # Code here - Ask the user to input \"Enter url of a medium article: \" and collect it in url\n",
        "    url = input(\"Enter url of a Medium article: \") or 'https://medium.com/@subashgandyer/papa-what-is-a-neural-network-c5e5cc427c7'\n",
        "    # Code ends here\n",
        "\n",
        "    # Handle possible error\n",
        "    if not re.match(r'https?://medium.com/', url):\n",
        "        print('Please enter a valid website, or make sure it is a Medium article.')\n",
        "        sys.exit(1)\n",
        "\n",
        "    # Code here - Call get method in requests object, pass url and collect it in res\n",
        "    res = requests.get(url)\n",
        "    # Code ends here\n",
        "\n",
        "    res.raise_for_status()\n",
        "    soup = BeautifulSoup(res.text, 'html.parser')\n",
        "    return soup\n"
      ]
    },
    {
      "cell_type": "markdown",
      "id": "f14f6483",
      "metadata": {
        "id": "f14f6483"
      },
      "source": [
        "### function to remove all the html tags and replace some with specific strings"
      ]
    },
    {
      "cell_type": "code",
      "execution_count": null,
      "id": "f99d7489",
      "metadata": {
        "id": "f99d7489"
      },
      "outputs": [],
      "source": [
        "\n",
        "def clean(text):\n",
        "    rep = {\"<br>\": \"\\n\", \"<br/>\": \"\\n\", \"<li>\":  \"\\n\"}\n",
        "    rep = dict((re.escape(k), v) for k, v in rep.items())\n",
        "    pattern = re.compile(\"|\".join(rep.keys()))\n",
        "    text = pattern.sub(lambda m: rep[re.escape(m.group(0))], text)\n",
        "    text = re.sub(r'\\<(.*?)\\>', '', text)\n",
        "    return text\n"
      ]
    },
    {
      "cell_type": "markdown",
      "id": "8884d697",
      "metadata": {
        "id": "8884d697"
      },
      "source": [
        "### function to collect text"
      ]
    },
    {
      "cell_type": "code",
      "execution_count": null,
      "id": "8f1585f4",
      "metadata": {
        "id": "8f1585f4"
      },
      "outputs": [],
      "source": [
        "\n",
        "def collect_text(soup):\n",
        "    text = f'url: {url}\\n\\n'\n",
        "    para_text = soup.find_all('p')\n",
        "    print(f\"paragraphs text = \\n {para_text}\")\n",
        "    for para in para_text:\n",
        "        text += f\"{para.text}\\n\\n\"\n",
        "    return text\n"
      ]
    },
    {
      "cell_type": "markdown",
      "id": "a63c44d5",
      "metadata": {
        "id": "a63c44d5"
      },
      "source": [
        "### function to save the file in the current directory"
      ]
    },
    {
      "cell_type": "code",
      "execution_count": null,
      "id": "d897695c",
      "metadata": {
        "id": "d897695c"
      },
      "outputs": [],
      "source": [
        "\n",
        "def save_file(text):\n",
        "    if not os.path.exists('./scraped_articles'):\n",
        "        os.mkdir('./scraped_articles')\n",
        "    name = url.split(\"/\")[-1]\n",
        "    fname = f'scraped_articles/{name}.txt'\n",
        "\n",
        "    # Write a file using 'with' (2 lines)\n",
        "    with open(fname, 'w', encoding='utf-8') as f:\n",
        "        f.write(text)\n",
        "\n",
        "    print(f'File saved in directory {fname}')\n"
      ]
    },
    {
      "cell_type": "markdown",
      "id": "245bfbdb",
      "metadata": {
        "id": "245bfbdb"
      },
      "source": [
        "### Main block to execute the functions"
      ]
    },
    {
      "cell_type": "code",
      "execution_count": null,
      "id": "8303b7f3",
      "metadata": {
        "id": "8303b7f3"
      },
      "outputs": [],
      "source": [
        "\n",
        "if __name__ == '__main__':\n",
        "    text = collect_text(get_page())\n",
        "    save_file(text)\n",
        "    # Instructions to Run this python code\n",
        "\t# Give url as https://medium.com/@subashgandyer/papa-what-is-a-neural-network-c5e5cc427c7\n"
      ]
    }
  ],
  "metadata": {
    "colab": {
      "provenance": []
    }
  },
  "nbformat": 4,
  "nbformat_minor": 5
}